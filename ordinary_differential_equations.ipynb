{
 "cells": [
  {
   "cell_type": "code",
   "execution_count": 1,
   "metadata": {},
   "outputs": [
    {
     "data": {
      "text/latex": [
       "$\\displaystyle y_1 = y_0 + \\frac{1}{6}(k_1 + 2k_2 + 2k_3 + k_4)$"
      ],
      "text/plain": [
       "<IPython.core.display.Math object>"
      ]
     },
     "metadata": {},
     "output_type": "display_data"
    },
    {
     "data": {
      "text/latex": [
       "$\\displaystyle k_1 = hf(x_0, y_0)$"
      ],
      "text/plain": [
       "<IPython.core.display.Math object>"
      ]
     },
     "metadata": {},
     "output_type": "display_data"
    },
    {
     "data": {
      "text/latex": [
       "$\\displaystyle k_2 = hf(x_0 + \\frac{h}{2}, y_0 + \\frac{k_1}{2})$"
      ],
      "text/plain": [
       "<IPython.core.display.Math object>"
      ]
     },
     "metadata": {},
     "output_type": "display_data"
    },
    {
     "data": {
      "text/latex": [
       "$\\displaystyle k_3 = hf(x_0 + \\frac{h}{2}, y_0 + \\frac{k_2}{2})$"
      ],
      "text/plain": [
       "<IPython.core.display.Math object>"
      ]
     },
     "metadata": {},
     "output_type": "display_data"
    },
    {
     "data": {
      "text/latex": [
       "$\\displaystyle k_4 = hf(x_0 + h, y_0 + k_3)$"
      ],
      "text/plain": [
       "<IPython.core.display.Math object>"
      ]
     },
     "metadata": {},
     "output_type": "display_data"
    },
    {
     "data": {
      "text/latex": [
       "$\\displaystyle x_1 = 0.4, y_1 = 0.7$"
      ],
      "text/plain": [
       "<IPython.core.display.Math object>"
      ]
     },
     "metadata": {},
     "output_type": "display_data"
    },
    {
     "name": "stdout",
     "output_type": "stream",
     "text": [
      "Iteration 1\n"
     ]
    },
    {
     "data": {
      "text/latex": [
       "$\\displaystyle y_1 = y_0 + \\frac16(k_1 + 2k_2 + 2k_3 + k_4)$"
      ],
      "text/plain": [
       "<IPython.core.display.Math object>"
      ]
     },
     "metadata": {},
     "output_type": "display_data"
    },
    {
     "data": {
      "text/latex": [
       "$\\displaystyle k_1 = 4.9975, k_2 = -0.4898, k_3 = 3.7684, k_4 = -9.1944$"
      ],
      "text/plain": [
       "<IPython.core.display.Math object>"
      ]
     },
     "metadata": {},
     "output_type": "display_data"
    },
    {
     "data": {
      "text/latex": [
       "$\\displaystyle x_1 = 0.4, y_1 = 0.7$"
      ],
      "text/plain": [
       "<IPython.core.display.Math object>"
      ]
     },
     "metadata": {},
     "output_type": "display_data"
    },
    {
     "data": {
      "text/latex": [
       "$\\displaystyle y_1 = 0.7 + \\frac16(4.9975 + 2*-0.4898 + 2*3.7684 + -9.1944)$"
      ],
      "text/plain": [
       "<IPython.core.display.Math object>"
      ]
     },
     "metadata": {},
     "output_type": "display_data"
    },
    {
     "data": {
      "text/latex": [
       "$\\displaystyle y_1 = 1.0934$"
      ],
      "text/plain": [
       "<IPython.core.display.Math object>"
      ]
     },
     "metadata": {},
     "output_type": "display_data"
    },
    {
     "name": "stdout",
     "output_type": "stream",
     "text": [
      "Iteration 2\n"
     ]
    },
    {
     "data": {
      "text/latex": [
       "$\\displaystyle y_2 = y_1 + \\frac16(k_1 + 2k_2 + 2k_3 + k_4)$"
      ],
      "text/plain": [
       "<IPython.core.display.Math object>"
      ]
     },
     "metadata": {},
     "output_type": "display_data"
    },
    {
     "data": {
      "text/latex": [
       "$\\displaystyle k_1 = 8.4157, k_2 = -8.7078, k_3 = 1.2422, k_4 = 8.35$"
      ],
      "text/plain": [
       "<IPython.core.display.Math object>"
      ]
     },
     "metadata": {},
     "output_type": "display_data"
    },
    {
     "data": {
      "text/latex": [
       "$\\displaystyle x_2 = 0.6, y_2 = 1.0934$"
      ],
      "text/plain": [
       "<IPython.core.display.Math object>"
      ]
     },
     "metadata": {},
     "output_type": "display_data"
    },
    {
     "data": {
      "text/latex": [
       "$\\displaystyle y_2 = 1.0934 + \\frac16(8.4157 + 2*-8.7078 + 2*1.2422 + 8.35)$"
      ],
      "text/plain": [
       "<IPython.core.display.Math object>"
      ]
     },
     "metadata": {},
     "output_type": "display_data"
    },
    {
     "data": {
      "text/latex": [
       "$\\displaystyle y_2 = 1.3991$"
      ],
      "text/plain": [
       "<IPython.core.display.Math object>"
      ]
     },
     "metadata": {},
     "output_type": "display_data"
    },
    {
     "name": "stdout",
     "output_type": "stream",
     "text": [
      "Iteration 3\n"
     ]
    },
    {
     "data": {
      "text/latex": [
       "$\\displaystyle y_3 = y_2 + \\frac16(k_1 + 2k_2 + 2k_3 + k_4)$"
      ],
      "text/plain": [
       "<IPython.core.display.Math object>"
      ]
     },
     "metadata": {},
     "output_type": "display_data"
    },
    {
     "data": {
      "text/latex": [
       "$\\displaystyle k_1 = 11.4027, k_2 = 9.3274, k_3 = -2.796, k_4 = -13.9219$"
      ],
      "text/plain": [
       "<IPython.core.display.Math object>"
      ]
     },
     "metadata": {},
     "output_type": "display_data"
    },
    {
     "data": {
      "text/latex": [
       "$\\displaystyle x_3 = 0.8, y_3 = 1.3991$"
      ],
      "text/plain": [
       "<IPython.core.display.Math object>"
      ]
     },
     "metadata": {},
     "output_type": "display_data"
    },
    {
     "data": {
      "text/latex": [
       "$\\displaystyle y_3 = 1.3991 + \\frac16(11.4027 + 2*9.3274 + 2*-2.796 + -13.9219)$"
      ],
      "text/plain": [
       "<IPython.core.display.Math object>"
      ]
     },
     "metadata": {},
     "output_type": "display_data"
    },
    {
     "data": {
      "text/latex": [
       "$\\displaystyle y_3 = 3.1564$"
      ],
      "text/plain": [
       "<IPython.core.display.Math object>"
      ]
     },
     "metadata": {},
     "output_type": "display_data"
    },
    {
     "name": "stdout",
     "output_type": "stream",
     "text": [
      "[0.4, 0.6000000000000001, 0.8, 1.0]\n",
      "[0.7, 1.0934, 1.3991, 3.1564]\n",
      "Correcting it with Milne-Simpsons method\n"
     ]
    },
    {
     "data": {
      "text/latex": [
       "$\\displaystyle y_3^{(C)} = y_1 + \\frac{h}3 (f(x_1, y_1^{(p)}) - f(x_2, y_2^{(p)}) + 2f(x_1, y_1^{(p)}))$"
      ],
      "text/plain": [
       "<IPython.core.display.Math object>"
      ]
     },
     "metadata": {},
     "output_type": "display_data"
    },
    {
     "data": {
      "text/latex": [
       "$\\displaystyle y_3^{(c)} = 21.0954$"
      ],
      "text/plain": [
       "<IPython.core.display.Math object>"
      ]
     },
     "metadata": {},
     "output_type": "display_data"
    }
   ],
   "source": [
    "import math\n",
    "from IPython.display import display, Math\n",
    "\n",
    "def f(x,y):\n",
    "    return round((51-25)*(math.exp(x))*math.sin((y)), 4)\n",
    "\n",
    "# initial values\n",
    "x0, y0, xn, h = 0.4, 0.7, 1, 0.2\n",
    "\n",
    "# function that solves Runge-Kutta 4th order\n",
    "# and uses Milne-Simpsons method as a corrector\n",
    "# each value of k should be outputed with the iteration number\n",
    "# and the values of why in each case, format it and use display(Math(...))\n",
    "def runge_kutta_milne_simpsons(x0, y0, xn, h):\n",
    "    display(Math(r'y_1 = y_0 + \\frac{1}{6}(k_1 + 2k_2 + 2k_3 + k_4)'))\n",
    "    # use display(Math(...)) to display the formular for runge kutta 4th Order\n",
    "    display(Math(r'k_1 = hf(x_0, y_0)'))\n",
    "    display(Math(r'k_2 = hf(x_0 + \\frac{h}{2}, y_0 + \\frac{k_1}{2})'))\n",
    "    display(Math(r'k_3 = hf(x_0 + \\frac{h}{2}, y_0 + \\frac{k_2}{2})'))\n",
    "    display(Math(r'k_4 = hf(x_0 + h, y_0 + k_3)'))\n",
    "    # factorize the 1/6 and use display(Math(...)) to display the formular for runge kutta 4th Order\n",
    "\n",
    "    n = int((xn-x0)/h)\n",
    "    x = x0\n",
    "    y = y0\n",
    "    xarray = [x]\n",
    "    yarray = [y]\n",
    "    display(Math(r'x_1 = %g, y_1 = %g' % (x, y)))\n",
    "    for i in range(0, n+1):\n",
    "        print(\"Iteration %d\" % (i+1))\n",
    "        display(Math(rf'y_{i+1} = y_{i} + \\frac{1}{6}(k_1 + 2k_2 + 2k_3 + k_4)'))\n",
    "        k1 = round(h*f(x,y),4)\n",
    "        k2 = round(h*f(x+h/2, y+k1/2), 4)\n",
    "        k3 = round(h*f(x+h/2, y+k2/2), 4)\n",
    "        k4 = round(h*f(x+h, y+k3), 4)\n",
    "        display(Math(r'k_1 = %g, k_2 = %g, k_3 = %g, k_4 = %g' % (k1, k2, k3, k4)))\n",
    "        display(Math(r'x_%d = %g, y_%d = %g' % (i+1, x, i+1, y)))\n",
    "        # use display(Math(...)) to display the Runges formular for y_1 but with the values for k1, k2, k3, k4\n",
    "        display(Math(rf'y_{i+1} = {y} + \\frac{1}{6}({k1} + 2*{k2} + 2*{k3} + {k4})'))\n",
    "        y = round(y + (k1 + 2*k2 + 2*k3 + k4)/6.0, 4)\n",
    "\n",
    "\n",
    "        # use display(Math()) to display the value of y_1\n",
    "        display(Math(f'y_{i+1} = {y}'))\n",
    "        x = x + h    \n",
    "        # store the values for x and y in the arrays\n",
    "        xarray.append(x)\n",
    "        yarray.append(y)   \n",
    "    \n",
    "    print(xarray)\n",
    "    print(yarray)\n",
    "    print(\"Correcting it with Milne-Simpsons method\")\n",
    "    x -= h\n",
    "    # use display(Math(...)) to display the milne simpsons formular for y_1\n",
    "    display(Math(rf'y_{i+1}^{{(C)}} = y_{i-1} + \\frac{{h}}{3} (f(x_{i-1}, y_{i-1}^{{(p)}}) - f(x_{i}, y_{i}^{{(p)}}) + 2f(x_{i-1}, y_{i-1}^{{(p)}}))'))\n",
    "    y = round(yarray[3] + (h/3.0)*(f(xarray[3], yarray[3]) + 4* f(xarray[2], yarray[2]) + f(xarray[1], yarray[1])), 4)\n",
    "    # use display(Math()) to display the value of y\n",
    "    display(Math(rf'y_{i+1}^{{(c)}} = {y}'))\n",
    "\n",
    "\n",
    "\n",
    "runge_kutta_milne_simpsons(x0, y0, xn, h)\n"
   ]
  }
 ],
 "metadata": {
  "kernelspec": {
   "display_name": "Python 3",
   "language": "python",
   "name": "python3"
  },
  "language_info": {
   "codemirror_mode": {
    "name": "ipython",
    "version": 3
   },
   "file_extension": ".py",
   "mimetype": "text/x-python",
   "name": "python",
   "nbconvert_exporter": "python",
   "pygments_lexer": "ipython3",
   "version": "3.11.4"
  },
  "orig_nbformat": 4
 },
 "nbformat": 4,
 "nbformat_minor": 2
}
